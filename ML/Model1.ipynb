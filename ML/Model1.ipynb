{
  "nbformat": 4,
  "nbformat_minor": 0,
  "metadata": {
    "colab": {
      "provenance": []
    },
    "kernelspec": {
      "name": "python3",
      "display_name": "Python 3"
    },
    "language_info": {
      "name": "python"
    }
  },
  "cells": [
    {
      "cell_type": "code",
      "execution_count": 2,
      "metadata": {
        "id": "a_MOVVhf8Ddo",
        "colab": {
          "base_uri": "https://localhost:8080/"
        },
        "outputId": "746c66ec-43e1-4ab5-c6e5-85d9e22f6c08"
      },
      "outputs": [
        {
          "output_type": "stream",
          "name": "stdout",
          "text": [
            "Requirement already satisfied: yfinance in /usr/local/lib/python3.10/dist-packages (0.2.31)\n",
            "Requirement already satisfied: pandas>=1.3.0 in /usr/local/lib/python3.10/dist-packages (from yfinance) (1.5.3)\n",
            "Requirement already satisfied: numpy>=1.16.5 in /usr/local/lib/python3.10/dist-packages (from yfinance) (1.23.5)\n",
            "Requirement already satisfied: requests>=2.31 in /usr/local/lib/python3.10/dist-packages (from yfinance) (2.31.0)\n",
            "Requirement already satisfied: multitasking>=0.0.7 in /usr/local/lib/python3.10/dist-packages (from yfinance) (0.0.11)\n",
            "Requirement already satisfied: lxml>=4.9.1 in /usr/local/lib/python3.10/dist-packages (from yfinance) (4.9.3)\n",
            "Requirement already satisfied: appdirs>=1.4.4 in /usr/local/lib/python3.10/dist-packages (from yfinance) (1.4.4)\n",
            "Requirement already satisfied: pytz>=2022.5 in /usr/local/lib/python3.10/dist-packages (from yfinance) (2023.3.post1)\n",
            "Requirement already satisfied: frozendict>=2.3.4 in /usr/local/lib/python3.10/dist-packages (from yfinance) (2.3.8)\n",
            "Requirement already satisfied: peewee>=3.16.2 in /usr/local/lib/python3.10/dist-packages (from yfinance) (3.17.0)\n",
            "Requirement already satisfied: beautifulsoup4>=4.11.1 in /usr/local/lib/python3.10/dist-packages (from yfinance) (4.11.2)\n",
            "Requirement already satisfied: html5lib>=1.1 in /usr/local/lib/python3.10/dist-packages (from yfinance) (1.1)\n",
            "Requirement already satisfied: soupsieve>1.2 in /usr/local/lib/python3.10/dist-packages (from beautifulsoup4>=4.11.1->yfinance) (2.5)\n",
            "Requirement already satisfied: six>=1.9 in /usr/local/lib/python3.10/dist-packages (from html5lib>=1.1->yfinance) (1.16.0)\n",
            "Requirement already satisfied: webencodings in /usr/local/lib/python3.10/dist-packages (from html5lib>=1.1->yfinance) (0.5.1)\n",
            "Requirement already satisfied: python-dateutil>=2.8.1 in /usr/local/lib/python3.10/dist-packages (from pandas>=1.3.0->yfinance) (2.8.2)\n",
            "Requirement already satisfied: charset-normalizer<4,>=2 in /usr/local/lib/python3.10/dist-packages (from requests>=2.31->yfinance) (3.3.1)\n",
            "Requirement already satisfied: idna<4,>=2.5 in /usr/local/lib/python3.10/dist-packages (from requests>=2.31->yfinance) (3.4)\n",
            "Requirement already satisfied: urllib3<3,>=1.21.1 in /usr/local/lib/python3.10/dist-packages (from requests>=2.31->yfinance) (2.0.7)\n",
            "Requirement already satisfied: certifi>=2017.4.17 in /usr/local/lib/python3.10/dist-packages (from requests>=2.31->yfinance) (2023.7.22)\n",
            "Collecting mplfinance\n",
            "  Downloading mplfinance-0.12.10b0-py3-none-any.whl (75 kB)\n",
            "\u001b[2K     \u001b[90m━━━━━━━━━━━━━━━━━━━━━━━━━━━━━━━━━━━━━━━━\u001b[0m \u001b[32m75.0/75.0 kB\u001b[0m \u001b[31m1.7 MB/s\u001b[0m eta \u001b[36m0:00:00\u001b[0m\n",
            "\u001b[?25hRequirement already satisfied: matplotlib in /usr/local/lib/python3.10/dist-packages (from mplfinance) (3.7.1)\n",
            "Requirement already satisfied: pandas in /usr/local/lib/python3.10/dist-packages (from mplfinance) (1.5.3)\n",
            "Requirement already satisfied: contourpy>=1.0.1 in /usr/local/lib/python3.10/dist-packages (from matplotlib->mplfinance) (1.1.1)\n",
            "Requirement already satisfied: cycler>=0.10 in /usr/local/lib/python3.10/dist-packages (from matplotlib->mplfinance) (0.12.1)\n",
            "Requirement already satisfied: fonttools>=4.22.0 in /usr/local/lib/python3.10/dist-packages (from matplotlib->mplfinance) (4.43.1)\n",
            "Requirement already satisfied: kiwisolver>=1.0.1 in /usr/local/lib/python3.10/dist-packages (from matplotlib->mplfinance) (1.4.5)\n",
            "Requirement already satisfied: numpy>=1.20 in /usr/local/lib/python3.10/dist-packages (from matplotlib->mplfinance) (1.23.5)\n",
            "Requirement already satisfied: packaging>=20.0 in /usr/local/lib/python3.10/dist-packages (from matplotlib->mplfinance) (23.2)\n",
            "Requirement already satisfied: pillow>=6.2.0 in /usr/local/lib/python3.10/dist-packages (from matplotlib->mplfinance) (9.4.0)\n",
            "Requirement already satisfied: pyparsing>=2.3.1 in /usr/local/lib/python3.10/dist-packages (from matplotlib->mplfinance) (3.1.1)\n",
            "Requirement already satisfied: python-dateutil>=2.7 in /usr/local/lib/python3.10/dist-packages (from matplotlib->mplfinance) (2.8.2)\n",
            "Requirement already satisfied: pytz>=2020.1 in /usr/local/lib/python3.10/dist-packages (from pandas->mplfinance) (2023.3.post1)\n",
            "Requirement already satisfied: six>=1.5 in /usr/local/lib/python3.10/dist-packages (from python-dateutil>=2.7->matplotlib->mplfinance) (1.16.0)\n",
            "Installing collected packages: mplfinance\n",
            "Successfully installed mplfinance-0.12.10b0\n"
          ]
        }
      ],
      "source": [
        "!pip install yfinance\n",
        "!pip install mplfinance\n",
        "import mplfinance as mpf\n",
        "import yfinance as yf\n",
        "import numpy as np\n",
        "import pandas as pd\n",
        "import tensorflow as tf\n",
        "import matplotlib.pyplot as plt\n",
        "import seaborn as sns"
      ]
    },
    {
      "cell_type": "code",
      "source": [
        "!pip install jugaad-data\n",
        "from datetime import date\n",
        "from jugaad_data.nse import stock_csv, stock_df\n",
        "\n"
      ],
      "metadata": {
        "id": "fC2yRj7O8h7t",
        "colab": {
          "base_uri": "https://localhost:8080/"
        },
        "outputId": "605f23bf-f647-4c01-be58-b390788ff6a1"
      },
      "execution_count": 3,
      "outputs": [
        {
          "output_type": "stream",
          "name": "stdout",
          "text": [
            "Collecting jugaad-data\n",
            "  Downloading jugaad_data-0.24-py3-none-any.whl (26 kB)\n",
            "Requirement already satisfied: requests in /usr/local/lib/python3.10/dist-packages (from jugaad-data) (2.31.0)\n",
            "Collecting click==7.1.2 (from jugaad-data)\n",
            "  Downloading click-7.1.2-py2.py3-none-any.whl (82 kB)\n",
            "\u001b[2K     \u001b[90m━━━━━━━━━━━━━━━━━━━━━━━━━━━━━━━━━━━━━━━━\u001b[0m \u001b[32m82.8/82.8 kB\u001b[0m \u001b[31m3.1 MB/s\u001b[0m eta \u001b[36m0:00:00\u001b[0m\n",
            "\u001b[?25hRequirement already satisfied: appdirs==1.4.4 in /usr/local/lib/python3.10/dist-packages (from jugaad-data) (1.4.4)\n",
            "Collecting beautifulsoup4==4.9.3 (from jugaad-data)\n",
            "  Downloading beautifulsoup4-4.9.3-py3-none-any.whl (115 kB)\n",
            "\u001b[2K     \u001b[90m━━━━━━━━━━━━━━━━━━━━━━━━━━━━━━━━━━━━━━━━\u001b[0m \u001b[32m115.8/115.8 kB\u001b[0m \u001b[31m4.9 MB/s\u001b[0m eta \u001b[36m0:00:00\u001b[0m\n",
            "\u001b[?25hRequirement already satisfied: soupsieve>1.2 in /usr/local/lib/python3.10/dist-packages (from beautifulsoup4==4.9.3->jugaad-data) (2.5)\n",
            "Requirement already satisfied: charset-normalizer<4,>=2 in /usr/local/lib/python3.10/dist-packages (from requests->jugaad-data) (3.3.1)\n",
            "Requirement already satisfied: idna<4,>=2.5 in /usr/local/lib/python3.10/dist-packages (from requests->jugaad-data) (3.4)\n",
            "Requirement already satisfied: urllib3<3,>=1.21.1 in /usr/local/lib/python3.10/dist-packages (from requests->jugaad-data) (2.0.7)\n",
            "Requirement already satisfied: certifi>=2017.4.17 in /usr/local/lib/python3.10/dist-packages (from requests->jugaad-data) (2023.7.22)\n",
            "Installing collected packages: click, beautifulsoup4, jugaad-data\n",
            "  Attempting uninstall: click\n",
            "    Found existing installation: click 8.1.7\n",
            "    Uninstalling click-8.1.7:\n",
            "      Successfully uninstalled click-8.1.7\n",
            "  Attempting uninstall: beautifulsoup4\n",
            "    Found existing installation: beautifulsoup4 4.11.2\n",
            "    Uninstalling beautifulsoup4-4.11.2:\n",
            "      Successfully uninstalled beautifulsoup4-4.11.2\n",
            "\u001b[31mERROR: pip's dependency resolver does not currently take into account all the packages that are installed. This behaviour is the source of the following dependency conflicts.\n",
            "lida 0.0.10 requires fastapi, which is not installed.\n",
            "lida 0.0.10 requires kaleido, which is not installed.\n",
            "lida 0.0.10 requires python-multipart, which is not installed.\n",
            "lida 0.0.10 requires uvicorn, which is not installed.\n",
            "flask 2.2.5 requires click>=8.0, but you have click 7.1.2 which is incompatible.\n",
            "dask 2023.8.1 requires click>=8.0, but you have click 7.1.2 which is incompatible.\n",
            "distributed 2023.8.1 requires click>=8.0, but you have click 7.1.2 which is incompatible.\n",
            "fiona 1.9.5 requires click~=8.0, but you have click 7.1.2 which is incompatible.\n",
            "pip-tools 6.13.0 requires click>=8, but you have click 7.1.2 which is incompatible.\n",
            "yfinance 0.2.31 requires beautifulsoup4>=4.11.1, but you have beautifulsoup4 4.9.3 which is incompatible.\u001b[0m\u001b[31m\n",
            "\u001b[0mSuccessfully installed beautifulsoup4-4.9.3 click-7.1.2 jugaad-data-0.24\n"
          ]
        }
      ]
    },
    {
      "cell_type": "code",
      "source": [
        "# Download as pandas dataframe\n",
        "df = stock_df(symbol=\"MRF\", from_date=date(2000,1,1),\n",
        "            to_date=date(2022,10,30), series=\"EQ\")"
      ],
      "metadata": {
        "id": "2KTZvkZA9Qg8"
      },
      "execution_count": 4,
      "outputs": []
    },
    {
      "cell_type": "code",
      "source": [
        "df.set_index(\"DATE\")\n",
        "df['DATE'] = pd.to_datetime(df['DATE'])"
      ],
      "metadata": {
        "id": "hTMyPT9_9Wpg"
      },
      "execution_count": 5,
      "outputs": []
    },
    {
      "cell_type": "code",
      "source": [
        "df.columns"
      ],
      "metadata": {
        "colab": {
          "base_uri": "https://localhost:8080/"
        },
        "id": "u1-o6uqs9o7E",
        "outputId": "37982775-48bb-4aa7-c53a-f6a1d064516d"
      },
      "execution_count": 6,
      "outputs": [
        {
          "output_type": "execute_result",
          "data": {
            "text/plain": [
              "Index(['DATE', 'SERIES', 'OPEN', 'HIGH', 'LOW', 'PREV. CLOSE', 'LTP', 'CLOSE',\n",
              "       'VWAP', '52W H', '52W L', 'VOLUME', 'VALUE', 'NO OF TRADES', 'SYMBOL'],\n",
              "      dtype='object')"
            ]
          },
          "metadata": {},
          "execution_count": 6
        }
      ]
    },
    {
      "cell_type": "code",
      "source": [
        "df.info()"
      ],
      "metadata": {
        "colab": {
          "base_uri": "https://localhost:8080/"
        },
        "id": "p1dCQBz0-IB_",
        "outputId": "64c7d1fe-2a32-42b7-e546-e4ee6df7f093"
      },
      "execution_count": 7,
      "outputs": [
        {
          "output_type": "stream",
          "name": "stdout",
          "text": [
            "<class 'pandas.core.frame.DataFrame'>\n",
            "RangeIndex: 5687 entries, 0 to 5686\n",
            "Data columns (total 15 columns):\n",
            " #   Column        Non-Null Count  Dtype         \n",
            "---  ------        --------------  -----         \n",
            " 0   DATE          5687 non-null   datetime64[ns]\n",
            " 1   SERIES        5687 non-null   object        \n",
            " 2   OPEN          5687 non-null   float64       \n",
            " 3   HIGH          5687 non-null   float64       \n",
            " 4   LOW           5687 non-null   float64       \n",
            " 5   PREV. CLOSE   5687 non-null   float64       \n",
            " 6   LTP           5687 non-null   float64       \n",
            " 7   CLOSE         5687 non-null   float64       \n",
            " 8   VWAP          5687 non-null   float64       \n",
            " 9   52W H         5671 non-null   float64       \n",
            " 10  52W L         5671 non-null   float64       \n",
            " 11  VOLUME        5687 non-null   int64         \n",
            " 12  VALUE         5687 non-null   float64       \n",
            " 13  NO OF TRADES  5687 non-null   int64         \n",
            " 14  SYMBOL        5687 non-null   object        \n",
            "dtypes: datetime64[ns](1), float64(10), int64(2), object(2)\n",
            "memory usage: 666.6+ KB\n"
          ]
        }
      ]
    },
    {
      "cell_type": "code",
      "source": [
        "len(df)"
      ],
      "metadata": {
        "colab": {
          "base_uri": "https://localhost:8080/"
        },
        "id": "WxCAa0UY-OWl",
        "outputId": "ce2ba6da-ce19-4b12-d11f-3983a7a6a56f"
      },
      "execution_count": 8,
      "outputs": [
        {
          "output_type": "execute_result",
          "data": {
            "text/plain": [
              "5687"
            ]
          },
          "metadata": {},
          "execution_count": 8
        }
      ]
    },
    {
      "cell_type": "code",
      "source": [
        "df = df.sort_values(by='DATE')\n",
        "plt.figure(figsize=(10, 6))\n",
        "\n",
        "plt.plot(df[\"DATE\"], df['CLOSE'], marker='o', linestyle='-')\n",
        "plt.title('DATE vs CLOSE')\n",
        "plt.xlabel('Date')\n",
        "plt.ylabel('Close Price')\n",
        "plt.xticks(rotation=45)\n",
        "\n",
        "plt.grid(True)\n",
        "plt.tight_layout()\n",
        "plt.show()\n"
      ],
      "metadata": {
        "colab": {
          "base_uri": "https://localhost:8080/",
          "height": 607
        },
        "id": "A77gLIbQ-VoZ",
        "outputId": "b845503c-08a6-4ab0-f077-498bbb76e216"
      },
      "execution_count": 9,
      "outputs": [
        {
          "output_type": "display_data",
          "data": {
            "text/plain": [
              "<Figure size 1000x600 with 1 Axes>"
            ],
            "image/png": "[encoded data removed]"
          },
          "metadata": {}
        }
      ]
    },
    {
      "cell_type": "code",
      "source": [
        "split_size=int(0.8*len(df))\n",
        "print(split_size)"
      ],
      "metadata": {
        "colab": {
          "base_uri": "https://localhost:8080/"
        },
        "id": "CJyBWPFS_g3U",
        "outputId": "0ed6a3d4-da20-4ad7-e6d8-16aa5b01831b"
      },
      "execution_count": 10,
      "outputs": [
        {
          "output_type": "stream",
          "name": "stdout",
          "text": [
            "4549\n"
          ]
        }
      ]
    },
    {
      "cell_type": "code",
      "source": [
        "new_df = df[['DATE', 'CLOSE']].copy()\n",
        "new_df.set_index('DATE', inplace=True)\n",
        "new_df.index = pd.to_datetime(new_df.index)\n"
      ],
      "metadata": {
        "id": "Oi7qjT-WBqkS"
      },
      "execution_count": 11,
      "outputs": []
    },
    {
      "cell_type": "code",
      "source": [
        "new_df.head()"
      ],
      "metadata": {
        "colab": {
          "base_uri": "https://localhost:8080/",
          "height": 238
        },
        "outputId": "c1f76fee-e330-4787-c7bb-83bb489720d0",
        "id": "TNOdsX5mDqHS"
      },
      "execution_count": 12,
      "outputs": [
        {
          "output_type": "execute_result",
          "data": {
            "text/plain": [
              "              CLOSE\n",
              "DATE               \n",
              "2000-01-03  2354.80\n",
              "2000-01-04  2426.10\n",
              "2000-01-05  2350.00\n",
              "2000-01-06  2536.85\n",
              "2000-01-07  2470.80"
            ],
            "text/html": [
              "\n",
              "  <div id=\"df-a877fc1d-ee52-43a5-838b-d04362c81cd1\" class=\"colab-df-container\">\n",
              "    <div>\n",
              "<style scoped>\n",
              "    .dataframe tbody tr th:only-of-type {\n",
              "        vertical-align: middle;\n",
              "    }\n",
              "\n",
              "    .dataframe tbody tr th {\n",
              "        vertical-align: top;\n",
              "    }\n",
              "\n",
              "    .dataframe thead th {\n",
              "        text-align: right;\n",
              "    }\n",
              "</style>\n",
              "<table border=\"1\" class=\"dataframe\">\n",
              "  <thead>\n",
              "    <tr style=\"text-align: right;\">\n",
              "      <th></th>\n",
              "      <th>CLOSE</th>\n",
              "    </tr>\n",
              "    <tr>\n",
              "      <th>DATE</th>\n",
              "      <th></th>\n",
              "    </tr>\n",
              "  </thead>\n",
              "  <tbody>\n",
              "    <tr>\n",
              "      <th>2000-01-03</th>\n",
              "      <td>2354.80</td>\n",
              "    </tr>\n",
              "    <tr>\n",
              "      <th>2000-01-04</th>\n",
              "      <td>2426.10</td>\n",
              "    </tr>\n",
              "    <tr>\n",
              "      <th>2000-01-05</th>\n",
              "      <td>2350.00</td>\n",
              "    </tr>\n",
              "    <tr>\n",
              "      <th>2000-01-06</th>\n",
              "      <td>2536.85</td>\n",
              "    </tr>\n",
              "    <tr>\n",
              "      <th>2000-01-07</th>\n",
              "      <td>2470.80</td>\n",
              "    </tr>\n",
              "  </tbody>\n",
              "</table>\n",
              "</div>\n",
              "    <div class=\"colab-df-buttons\">\n",
              "\n",
              "  <div class=\"colab-df-container\">\n",
              "    <button class=\"colab-df-convert\" onclick=\"convertToInteractive('df-a877fc1d-ee52-43a5-838b-d04362c81cd1')\"\n",
              "            title=\"Convert this dataframe to an interactive table.\"\n",
              "            style=\"display:none;\">\n",
              "\n",
              "  <svg xmlns=\"http://www.w3.org/2000/svg\" height=\"24px\" viewBox=\"0 -960 960 960\">\n",
              "    <path d=\"M120-120v-720h720v720H120Zm60-500h600v-160H180v160Zm220 220h160v-160H400v160Zm0 220h160v-160H400v160ZM180-400h160v-160H180v160Zm440 0h160v-160H620v160ZM180-180h160v-160H180v160Zm440 0h160v-160H620v160Z\"/>\n",
              "  </svg>\n",
              "    </button>\n",
              "\n",
              "  <style>\n",
              "    .colab-df-container {\n",
              "      display:flex;\n",
              "      gap: 12px;\n",
              "    }\n",
              "\n",
              "    .colab-df-convert {\n",
              "      background-color: #E8F0FE;\n",
              "      border: none;\n",
              "      border-radius: 50%;\n",
              "      cursor: pointer;\n",
              "      display: none;\n",
              "      fill: #1967D2;\n",
              "      height: 32px;\n",
              "      padding: 0 0 0 0;\n",
              "      width: 32px;\n",
              "    }\n",
              "\n",
              "    .colab-df-convert:hover {\n",
              "      background-color: #E2EBFA;\n",
              "      box-shadow: 0px 1px 2px rgba(60, 64, 67, 0.3), 0px 1px 3px 1px rgba(60, 64, 67, 0.15);\n",
              "      fill: #174EA6;\n",
              "    }\n",
              "\n",
              "    .colab-df-buttons div {\n",
              "      margin-bottom: 4px;\n",
              "    }\n",
              "\n",
              "    [theme=dark] .colab-df-convert {\n",
              "      background-color: #3B4455;\n",
              "      fill: #D2E3FC;\n",
              "    }\n",
              "\n",
              "    [theme=dark] .colab-df-convert:hover {\n",
              "      background-color: #434B5C;\n",
              "      box-shadow: 0px 1px 3px 1px rgba(0, 0, 0, 0.15);\n",
              "      filter: drop-shadow(0px 1px 2px rgba(0, 0, 0, 0.3));\n",
              "      fill: #FFFFFF;\n",
              "    }\n",
              "  </style>\n",
              "\n",
              "    <script>\n",
              "      const buttonEl =\n",
              "        document.querySelector('#df-a877fc1d-ee52-43a5-838b-d04362c81cd1 button.colab-df-convert');\n",
              "      buttonEl.style.display =\n",
              "        google.colab.kernel.accessAllowed ? 'block' : 'none';\n",
              "\n",
              "      async function convertToInteractive(key) {\n",
              "        const element = document.querySelector('#df-a877fc1d-ee52-43a5-838b-d04362c81cd1');\n",
              "        const dataTable =\n",
              "          await google.colab.kernel.invokeFunction('convertToInteractive',\n",
              "                                                    [key], {});\n",
              "        if (!dataTable) return;\n",
              "\n",
              "        const docLinkHtml = 'Like what you see? Visit the ' +\n",
              "          '<a target=\"_blank\" href=https://colab.research.google.com/notebooks/data_table.ipynb>data table notebook</a>'\n",
              "          + ' to learn more about interactive tables.';\n",
              "        element.innerHTML = '';\n",
              "        dataTable['output_type'] = 'display_data';\n",
              "        await google.colab.output.renderOutput(dataTable, element);\n",
              "        const docLink = document.createElement('div');\n",
              "        docLink.innerHTML = docLinkHtml;\n",
              "        element.appendChild(docLink);\n",
              "      }\n",
              "    </script>\n",
              "  </div>\n",
              "\n",
              "\n",
              "<div id=\"df-cb775a75-03fd-4dac-98c7-f89b1f6ac305\">\n",
              "  <button class=\"colab-df-quickchart\" onclick=\"quickchart('df-cb775a75-03fd-4dac-98c7-f89b1f6ac305')\"\n",
              "            title=\"Suggest charts.\"\n",
              "            style=\"display:none;\">\n",
              "\n",
              "<svg xmlns=\"http://www.w3.org/2000/svg\" height=\"24px\"viewBox=\"0 0 24 24\"\n",
              "     width=\"24px\">\n",
              "    <g>\n",
              "        <path d=\"M19 3H5c-1.1 0-2 .9-2 2v14c0 1.1.9 2 2 2h14c1.1 0 2-.9 2-2V5c0-1.1-.9-2-2-2zM9 17H7v-7h2v7zm4 0h-2V7h2v10zm4 0h-2v-4h2v4z\"/>\n",
              "    </g>\n",
              "</svg>\n",
              "  </button>\n",
              "\n",
              "<style>\n",
              "  .colab-df-quickchart {\n",
              "      --bg-color: #E8F0FE;\n",
              "      --fill-color: #1967D2;\n",
              "      --hover-bg-color: #E2EBFA;\n",
              "      --hover-fill-color: #174EA6;\n",
              "      --disabled-fill-color: #AAA;\n",
              "      --disabled-bg-color: #DDD;\n",
              "  }\n",
              "\n",
              "  [theme=dark] .colab-df-quickchart {\n",
              "      --bg-color: #3B4455;\n",
              "      --fill-color: #D2E3FC;\n",
              "      --hover-bg-color: #434B5C;\n",
              "      --hover-fill-color: #FFFFFF;\n",
              "      --disabled-bg-color: #3B4455;\n",
              "      --disabled-fill-color: #666;\n",
              "  }\n",
              "\n",
              "  .colab-df-quickchart {\n",
              "    background-color: var(--bg-color);\n",
              "    border: none;\n",
              "    border-radius: 50%;\n",
              "    cursor: pointer;\n",
              "    display: none;\n",
              "    fill: var(--fill-color);\n",
              "    height: 32px;\n",
              "    padding: 0;\n",
              "    width: 32px;\n",
              "  }\n",
              "\n",
              "  .colab-df-quickchart:hover {\n",
              "    background-color: var(--hover-bg-color);\n",
              "    box-shadow: 0 1px 2px rgba(60, 64, 67, 0.3), 0 1px 3px 1px rgba(60, 64, 67, 0.15);\n",
              "    fill: var(--button-hover-fill-color);\n",
              "  }\n",
              "\n",
              "  .colab-df-quickchart-complete:disabled,\n",
              "  .colab-df-quickchart-complete:disabled:hover {\n",
              "    background-color: var(--disabled-bg-color);\n",
              "    fill: var(--disabled-fill-color);\n",
              "    box-shadow: none;\n",
              "  }\n",
              "\n",
              "  .colab-df-spinner {\n",
              "    border: 2px solid var(--fill-color);\n",
              "    border-color: transparent;\n",
              "    border-bottom-color: var(--fill-color);\n",
              "    animation:\n",
              "      spin 1s steps(1) infinite;\n",
              "  }\n",
              "\n",
              "  @keyframes spin {\n",
              "    0% {\n",
              "      border-color: transparent;\n",
              "      border-bottom-color: var(--fill-color);\n",
              "      border-left-color: var(--fill-color);\n",
              "    }\n",
              "    20% {\n",
              "      border-color: transparent;\n",
              "      border-left-color: var(--fill-color);\n",
              "      border-top-color: var(--fill-color);\n",
              "    }\n",
              "    30% {\n",
              "      border-color: transparent;\n",
              "      border-left-color: var(--fill-color);\n",
              "      border-top-color: var(--fill-color);\n",
              "      border-right-color: var(--fill-color);\n",
              "    }\n",
              "    40% {\n",
              "      border-color: transparent;\n",
              "      border-right-color: var(--fill-color);\n",
              "      border-top-color: var(--fill-color);\n",
              "    }\n",
              "    60% {\n",
              "      border-color: transparent;\n",
              "      border-right-color: var(--fill-color);\n",
              "    }\n",
              "    80% {\n",
              "      border-color: transparent;\n",
              "      border-right-color: var(--fill-color);\n",
              "      border-bottom-color: var(--fill-color);\n",
              "    }\n",
              "    90% {\n",
              "      border-color: transparent;\n",
              "      border-bottom-color: var(--fill-color);\n",
              "    }\n",
              "  }\n",
              "</style>\n",
              "\n",
              "  <script>\n",
              "    async function quickchart(key) {\n",
              "      const quickchartButtonEl =\n",
              "        document.querySelector('#' + key + ' button');\n",
              "      quickchartButtonEl.disabled = true;  // To prevent multiple clicks.\n",
              "      quickchartButtonEl.classList.add('colab-df-spinner');\n",
              "      try {\n",
              "        const charts = await google.colab.kernel.invokeFunction(\n",
              "            'suggestCharts', [key], {});\n",
              "      } catch (error) {\n",
              "        console.error('Error during call to suggestCharts:', error);\n",
              "      }\n",
              "      quickchartButtonEl.classList.remove('colab-df-spinner');\n",
              "      quickchartButtonEl.classList.add('colab-df-quickchart-complete');\n",
              "    }\n",
              "    (() => {\n",
              "      let quickchartButtonEl =\n",
              "        document.querySelector('#df-cb775a75-03fd-4dac-98c7-f89b1f6ac305 button');\n",
              "      quickchartButtonEl.style.display =\n",
              "        google.colab.kernel.accessAllowed ? 'block' : 'none';\n",
              "    })();\n",
              "  </script>\n",
              "</div>\n",
              "    </div>\n",
              "  </div>\n"
            ]
          },
          "metadata": {},
          "execution_count": 12
        }
      ]
    },
    {
      "cell_type": "code",
      "source": [
        "timesteps=new_df.index.to_numpy()\n",
        "prices=new_df[\"CLOSE\"].to_numpy()\n"
      ],
      "metadata": {
        "id": "ImG2O71tENp-"
      },
      "execution_count": 13,
      "outputs": []
    },
    {
      "cell_type": "code",
      "source": [
        "X_train,y_train=timesteps[:split_size],prices[:split_size]\n",
        "X_test,y_test=timesteps[split_size:],prices[split_size:]"
      ],
      "metadata": {
        "id": "I7rHwsKFA3V1"
      },
      "execution_count": 15,
      "outputs": []
    },
    {
      "cell_type": "code",
      "source": [
        "len(X_train),len(y_train),len(X_test),len(y_test)"
      ],
      "metadata": {
        "colab": {
          "base_uri": "https://localhost:8080/"
        },
        "id": "ndIhe_2gA3GI",
        "outputId": "22b242d4-4028-46fe-f7ec-9480f5da8aa4"
      },
      "execution_count": 16,
      "outputs": [
        {
          "output_type": "execute_result",
          "data": {
            "text/plain": [
              "(4549, 4549, 1138, 1138)"
            ]
          },
          "metadata": {},
          "execution_count": 16
        }
      ]
    },
    {
      "cell_type": "code",
      "source": [
        "def plot_time_series(timesteps,values,format=\".\",start=0,end=None,label=None):\n",
        "    plt.plot(timesteps[start:end],values[start:end],format,label=label)\n",
        "    plt.xlabel(\"Time\")\n",
        "    plt.ylabel(\"Price\")\n",
        "    plt.grid(True)\n"
      ],
      "metadata": {
        "id": "WA2785qcEYxA"
      },
      "execution_count": 17,
      "outputs": []
    },
    {
      "cell_type": "code",
      "source": [
        "plot_time_series(timesteps=X_train,values=y_train,label=\"Train_data\")"
      ],
      "metadata": {
        "colab": {
          "base_uri": "https://localhost:8080/",
          "height": 450
        },
        "id": "06dQwdzpAQAo",
        "outputId": "7900fe2d-67be-4088-a905-52b15b442c24"
      },
      "execution_count": 18,
      "outputs": [
        {
          "output_type": "display_data",
          "data": {
            "text/plain": [
              "<Figure size 640x480 with 1 Axes>"
            ],
            "image/png": "[encoded data removed]"
          },
          "metadata": {}
        }
      ]
    },
    {
      "cell_type": "code",
      "source": [
        "plot_time_series(timesteps=X_test,values=y_test,label=\"Test_data\")"
      ],
      "metadata": {
        "colab": {
          "base_uri": "https://localhost:8080/",
          "height": 449
        },
        "id": "iXUhdkH5AcWm",
        "outputId": "4832f098-1162-49f3-ef32-881030733ef8"
      },
      "execution_count": 19,
      "outputs": [
        {
          "output_type": "display_data",
          "data": {
            "text/plain": [
              "<Figure size 640x480 with 1 Axes>"
            ],
            "image/png": "[encoded data removed]"
          },
          "metadata": {}
        }
      ]
    },
    {
      "cell_type": "code",
      "source": [
        "plt.figure(figsize=(10,7))\n",
        "plot_time_series(timesteps=X_train,values=y_train,label=\"Train_data\")\n",
        "plot_time_series(timesteps=X_test,values=y_test,label=\"Test_data\")"
      ],
      "metadata": {
        "colab": {
          "base_uri": "https://localhost:8080/",
          "height": 619
        },
        "id": "djY08aJ8Agye",
        "outputId": "37da704e-8fee-4591-d69b-53e38ad02d72"
      },
      "execution_count": 20,
      "outputs": [
        {
          "output_type": "display_data",
          "data": {
            "text/plain": [
              "<Figure size 1000x700 with 1 Axes>"
            ],
            "image/png": "[encoded data removed]"
          },
          "metadata": {}
        }
      ]
    },
    {
      "cell_type": "code",
      "source": [
        "def mean_absolute_scaled_error(y_true,y_pred):\n",
        "    mae=tf.reduce_mean(tf.abs(y_true-y_pred))\n",
        "    mae_naive_no_season = tf.reduce_mean(tf.abs(y_true[1:]-y_pred[1:]))\n",
        "    return mae/mae_naive_no_season"
      ],
      "metadata": {
        "id": "C9P7c1DZCzYE"
      },
      "execution_count": 21,
      "outputs": []
    },
    {
      "cell_type": "code",
      "source": [
        "HORIZON = 1\n",
        "WINDOW_SIZE = 7"
      ],
      "metadata": {
        "id": "gg4521dgHKKB"
      },
      "execution_count": 22,
      "outputs": []
    },
    {
      "cell_type": "code",
      "source": [
        "def get_labelled_data(x, horizon=HORIZON):\n",
        "    return x[:,:-horizon],x[:,-horizon:]"
      ],
      "metadata": {
        "id": "HAtJsKiIIz4P"
      },
      "execution_count": 23,
      "outputs": []
    },
    {
      "cell_type": "code",
      "source": [
        "test_window,test_label = get_labelled_data(tf.expand_dims(tf.range(8),axis=0))\n",
        "test_window,test_label"
      ],
      "metadata": {
        "colab": {
          "base_uri": "https://localhost:8080/"
        },
        "id": "lHB78Pz4JgEo",
        "outputId": "3b0f84d6-54b5-46eb-c604-fbb5298820d7"
      },
      "execution_count": 25,
      "outputs": [
        {
          "output_type": "execute_result",
          "data": {
            "text/plain": [
              "(<tf.Tensor: shape=(1, 7), dtype=int32, numpy=array([[0, 1, 2, 3, 4, 5, 6]], dtype=int32)>,\n",
              " <tf.Tensor: shape=(1, 1), dtype=int32, numpy=array([[7]], dtype=int32)>)"
            ]
          },
          "metadata": {},
          "execution_count": 25
        }
      ]
    },
    {
      "cell_type": "code",
      "source": [
        "def make_windows(x,window_size=WINDOW_SIZE,horizon=HORIZON):\n",
        "    window_step=np.expand_dims(np.arange(window_size+horizon),axis=0)\n",
        "    window_indexes=window_step+np.expand_dims(np.arange(len(x)-(window_size+horizon-1)),axis=0).T\n",
        "    windowed_array=x[window_indexes]\n",
        "    windows,labels=get_labelled_data(windowed_array,horizon=horizon)\n",
        "    return windows,labels"
      ],
      "metadata": {
        "id": "5gUl2LAzJwL_"
      },
      "execution_count": 29,
      "outputs": []
    },
    {
      "cell_type": "code",
      "source": [
        "full_windows,full_labels = make_windows(prices,window_size = WINDOW_SIZE,horizon=HORIZON)"
      ],
      "metadata": {
        "id": "pkj8-KnELqRD"
      },
      "execution_count": 31,
      "outputs": []
    },
    {
      "cell_type": "code",
      "source": [
        "len(full_windows),len(full_labels)"
      ],
      "metadata": {
        "colab": {
          "base_uri": "https://localhost:8080/"
        },
        "id": "8wABVgzyMxZK",
        "outputId": "0ef3149d-0603-48b7-9910-db0573bf8f97"
      },
      "execution_count": 34,
      "outputs": [
        {
          "output_type": "execute_result",
          "data": {
            "text/plain": [
              "(5680, 5680)"
            ]
          },
          "metadata": {},
          "execution_count": 34
        }
      ]
    },
    {
      "cell_type": "code",
      "source": [
        "for i in range(3):\n",
        "    print(f\"Window: {full_windows[i]} --> Label: {full_labels[i]}\")"
      ],
      "metadata": {
        "colab": {
          "base_uri": "https://localhost:8080/"
        },
        "id": "g5WbJslVNH2Q",
        "outputId": "fc9634a2-4d43-4126-966e-5331f62f08d9"
      },
      "execution_count": 35,
      "outputs": [
        {
          "output_type": "stream",
          "name": "stdout",
          "text": [
            "Window: [2354.8  2426.1  2350.   2536.85 2470.8  2497.6  2315.  ] --> Label: [2500.2]\n",
            "Window: [2426.1  2350.   2536.85 2470.8  2497.6  2315.   2500.2 ] --> Label: [2640.2]\n",
            "Window: [2350.   2536.85 2470.8  2497.6  2315.   2500.2  2640.2 ] --> Label: [2514.75]\n"
          ]
        }
      ]
    },
    {
      "cell_type": "code",
      "source": [
        "n=3\n",
        "for i in range(n):\n",
        "    print(f\"Window: {full_windows[i-n]} --> Label: {full_labels[i-n]}\")"
      ],
      "metadata": {
        "colab": {
          "base_uri": "https://localhost:8080/"
        },
        "id": "OAi7m4MxNc_D",
        "outputId": "32a936c8-96d1-4bf1-ef6a-76955002a40d"
      },
      "execution_count": 36,
      "outputs": [
        {
          "output_type": "stream",
          "name": "stdout",
          "text": [
            "Window: [81350.15 82267.95 83088.15 83149.45 84171.8  86224.8  86291.55] --> Label: [87342.85]\n",
            "Window: [82267.95 83088.15 83149.45 84171.8  86224.8  86291.55 87342.85] --> Label: [87362.85]\n",
            "Window: [83088.15 83149.45 84171.8  86224.8  86291.55 87342.85 87362.85] --> Label: [89368.3]\n"
          ]
        }
      ]
    },
    {
      "cell_type": "code",
      "source": [
        "def make_train_test_splits(windows,labels,test_split=0.2):\n",
        "    splits_size=int(len(windows))*(1-test_split)\n",
        "    train_windows=windows[:split_size]\n",
        "    train_labels = labels[:split_size]\n",
        "    test_windows = windows[split_size:]\n",
        "    test_labels = labels[split_size:]\n",
        "    return train_windows,test_windows,train_labels,test_labels"
      ],
      "metadata": {
        "id": "4rSRjAGgNpM7"
      },
      "execution_count": 37,
      "outputs": []
    },
    {
      "cell_type": "code",
      "source": [
        "train_windows,test_windows,train_labels,test_labels = make_train_test_splits(full_windows,full_labels,test_split=0.2)"
      ],
      "metadata": {
        "id": "5Tj7J1pJP0jE"
      },
      "execution_count": 38,
      "outputs": []
    },
    {
      "cell_type": "code",
      "source": [
        "len(train_windows),len(test_windows),len(train_labels),len(test_labels)"
      ],
      "metadata": {
        "colab": {
          "base_uri": "https://localhost:8080/"
        },
        "id": "EeevG_6yQzB5",
        "outputId": "1997d8bf-c8ee-4990-d988-3c97a558e19c"
      },
      "execution_count": 39,
      "outputs": [
        {
          "output_type": "execute_result",
          "data": {
            "text/plain": [
              "(4549, 1131, 4549, 1131)"
            ]
          },
          "metadata": {},
          "execution_count": 39
        }
      ]
    },
    {
      "cell_type": "code",
      "source": [
        "train_windows[:5],train_labels[:5]"
      ],
      "metadata": {
        "colab": {
          "base_uri": "https://localhost:8080/"
        },
        "id": "8SCjaXKnQ473",
        "outputId": "c3523446-f6c2-4cbc-b611-4fbc1038df3c"
      },
      "execution_count": 41,
      "outputs": [
        {
          "output_type": "execute_result",
          "data": {
            "text/plain": [
              "(array([[2354.8 , 2426.1 , 2350.  , 2536.85, 2470.8 , 2497.6 , 2315.  ],\n",
              "        [2426.1 , 2350.  , 2536.85, 2470.8 , 2497.6 , 2315.  , 2500.2 ],\n",
              "        [2350.  , 2536.85, 2470.8 , 2497.6 , 2315.  , 2500.2 , 2640.2 ],\n",
              "        [2536.85, 2470.8 , 2497.6 , 2315.  , 2500.2 , 2640.2 , 2514.75],\n",
              "        [2470.8 , 2497.6 , 2315.  , 2500.2 , 2640.2 , 2514.75, 2538.2 ]]),\n",
              " array([[2500.2 ],\n",
              "        [2640.2 ],\n",
              "        [2514.75],\n",
              "        [2538.2 ],\n",
              "        [2439.25]]))"
            ]
          },
          "metadata": {},
          "execution_count": 41
        }
      ]
    },
    {
      "cell_type": "code",
      "source": [
        "import os\n",
        "\n",
        "def create_model_checkpoint(model_name,save_path=\"model_experiments\"):\n",
        "    return tf.keras.callbacks.ModelCheckpoint(filepath=os.path.join(save_path,model_name),\n",
        "                                              save_best_only=True,\n",
        "                                              verbose=1)"
      ],
      "metadata": {
        "id": "hg6WOShcQ-M6"
      },
      "execution_count": 45,
      "outputs": []
    },
    {
      "cell_type": "code",
      "source": [
        "model_1 = tf.keras.Sequential([\n",
        "    tf.keras.layers.Dense(128,activation = \"relu\"),\n",
        "    tf.keras.layers.Dense(HORIZON,activation = \"linear\")\n",
        "],name = \"model_1_dense\")"
      ],
      "metadata": {
        "id": "NkzMcEmyRtzI"
      },
      "execution_count": 47,
      "outputs": []
    },
    {
      "cell_type": "code",
      "source": [
        "model_1.compile(loss=\"mae\",\n",
        "                optimizer=tf.keras.optimizers.Adam(),\n",
        "                metrics = [\"mae\",\"mse\"])"
      ],
      "metadata": {
        "id": "vEtROofASs7c"
      },
      "execution_count": 48,
      "outputs": []
    },
    {
      "cell_type": "code",
      "source": [
        "model_1.fit(x=train_windows,\n",
        "            y = train_labels,\n",
        "            epochs = 100,\n",
        "            verbose = 1,\n",
        "            batch_size = 128,\n",
        "            validation_data=(test_windows,test_labels),\n",
        "            callbacks = [create_model_checkpoint(model_name= model_1.name)])"
      ],
      "metadata": {
        "colab": {
          "base_uri": "https://localhost:8080/"
        },
        "id": "I9T9bMHOS-7J",
        "outputId": "8258fffd-61be-44fb-9d0f-57cf869f43fb"
      },
      "execution_count": 51,
      "outputs": [
        {
          "output_type": "stream",
          "name": "stdout",
          "text": [
            "Epoch 1/100\n",
            "26/36 [====================>.........] - ETA: 0s - loss: 1535.7524 - mae: 1535.7524 - mse: 13188863.0000 \n",
            "Epoch 1: val_loss improved from inf to 1625.34399, saving model to model_experiments/model_1_dense\n",
            "36/36 [==============================] - 2s 25ms/step - loss: 1244.5653 - mae: 1244.5653 - mse: 9872099.0000 - val_loss: 1625.3440 - val_mae: 1625.3440 - val_mse: 4771525.0000\n",
            "Epoch 2/100\n",
            "28/36 [======================>.......] - ETA: 0s - loss: 397.5905 - mae: 397.5905 - mse: 648758.0000\n",
            "Epoch 2: val_loss improved from 1625.34399 to 1590.33508, saving model to model_experiments/model_1_dense\n",
            "36/36 [==============================] - 1s 16ms/step - loss: 393.2559 - mae: 393.2559 - mse: 638049.0000 - val_loss: 1590.3351 - val_mae: 1590.3351 - val_mse: 4285524.5000\n",
            "Epoch 3/100\n",
            "28/36 [======================>.......] - ETA: 0s - loss: 385.1983 - mae: 385.1983 - mse: 613751.0000\n",
            "Epoch 3: val_loss did not improve from 1590.33508\n",
            "36/36 [==============================] - 0s 3ms/step - loss: 377.2232 - mae: 377.2232 - mse: 587121.5625 - val_loss: 1591.0554 - val_mae: 1591.0554 - val_mse: 4566774.0000\n",
            "Epoch 4/100\n",
            "29/36 [=======================>......] - ETA: 0s - loss: 369.1425 - mae: 369.1425 - mse: 561387.5625\n",
            "Epoch 4: val_loss improved from 1590.33508 to 1453.50232, saving model to model_experiments/model_1_dense\n",
            "36/36 [==============================] - 1s 15ms/step - loss: 368.1583 - mae: 368.1583 - mse: 557568.5625 - val_loss: 1453.5023 - val_mae: 1453.5023 - val_mse: 3719308.7500\n",
            "Epoch 5/100\n",
            "25/36 [===================>..........] - ETA: 0s - loss: 358.2867 - mae: 358.2867 - mse: 520166.1250\n",
            "Epoch 5: val_loss improved from 1453.50232 to 1443.31738, saving model to model_experiments/model_1_dense\n",
            "36/36 [==============================] - 1s 15ms/step - loss: 347.4705 - mae: 347.4705 - mse: 501652.3438 - val_loss: 1443.3174 - val_mae: 1443.3174 - val_mse: 3578140.2500\n",
            "Epoch 6/100\n",
            "28/36 [======================>.......] - ETA: 0s - loss: 343.3778 - mae: 343.3778 - mse: 486851.3438\n",
            "Epoch 6: val_loss improved from 1443.31738 to 1360.55371, saving model to model_experiments/model_1_dense\n",
            "36/36 [==============================] - 1s 16ms/step - loss: 337.5709 - mae: 337.5709 - mse: 471426.8750 - val_loss: 1360.5537 - val_mae: 1360.5537 - val_mse: 3286553.0000\n",
            "Epoch 7/100\n",
            "27/36 [=====================>........] - ETA: 0s - loss: 331.6810 - mae: 331.6810 - mse: 446536.1875\n",
            "Epoch 7: val_loss did not improve from 1360.55371\n",
            "36/36 [==============================] - 0s 3ms/step - loss: 349.6739 - mae: 349.6739 - mse: 504177.0000 - val_loss: 1579.1918 - val_mae: 1579.1918 - val_mse: 3968376.2500\n",
            "Epoch 8/100\n",
            "27/36 [=====================>........] - ETA: 0s - loss: 331.5633 - mae: 331.5633 - mse: 440636.2188\n",
            "Epoch 8: val_loss did not improve from 1360.55371\n",
            "36/36 [==============================] - 0s 3ms/step - loss: 317.3374 - mae: 317.3374 - mse: 415005.3438 - val_loss: 1798.0875 - val_mae: 1798.0875 - val_mse: 4842270.0000\n",
            "Epoch 9/100\n",
            "29/36 [=======================>......] - ETA: 0s - loss: 317.0781 - mae: 317.0781 - mse: 421350.6250\n",
            "Epoch 9: val_loss improved from 1360.55371 to 1224.54712, saving model to model_experiments/model_1_dense\n",
            "36/36 [==============================] - 1s 15ms/step - loss: 309.6857 - mae: 309.6857 - mse: 402880.5938 - val_loss: 1224.5471 - val_mae: 1224.5471 - val_mse: 2705355.2500\n",
            "Epoch 10/100\n",
            "36/36 [==============================] - ETA: 0s - loss: 296.1674 - mae: 296.1674 - mse: 378481.5312\n",
            "Epoch 10: val_loss improved from 1224.54712 to 1160.33655, saving model to model_experiments/model_1_dense\n",
            "36/36 [==============================] - 1s 24ms/step - loss: 296.1674 - mae: 296.1674 - mse: 378481.5312 - val_loss: 1160.3365 - val_mae: 1160.3365 - val_mse: 2491293.7500\n",
            "Epoch 11/100\n",
            "18/36 [==============>...............] - ETA: 0s - loss: 269.4407 - mae: 269.4407 - mse: 324061.6875\n",
            "Epoch 11: val_loss did not improve from 1160.33655\n",
            "36/36 [==============================] - 0s 4ms/step - loss: 272.2998 - mae: 272.2998 - mse: 323038.0625 - val_loss: 1312.3113 - val_mae: 1312.3113 - val_mse: 2815828.5000\n",
            "Epoch 12/100\n",
            "20/36 [===============>..............] - ETA: 0s - loss: 264.6978 - mae: 264.6978 - mse: 291521.0625\n",
            "Epoch 12: val_loss did not improve from 1160.33655\n",
            "36/36 [==============================] - 0s 4ms/step - loss: 267.5657 - mae: 267.5657 - mse: 309877.5000 - val_loss: 1545.3567 - val_mae: 1545.3567 - val_mse: 3607249.2500\n",
            "Epoch 13/100\n",
            "36/36 [==============================] - ETA: 0s - loss: 275.5862 - mae: 275.5862 - mse: 325571.6250\n",
            "Epoch 13: val_loss did not improve from 1160.33655\n",
            "36/36 [==============================] - 0s 6ms/step - loss: 275.5862 - mae: 275.5862 - mse: 325571.6250 - val_loss: 1453.3556 - val_mae: 1453.3556 - val_mse: 3492187.0000\n",
            "Epoch 14/100\n",
            "35/36 [============================>.] - ETA: 0s - loss: 268.7961 - mae: 268.7961 - mse: 316423.9062\n",
            "Epoch 14: val_loss improved from 1160.33655 to 1119.80957, saving model to model_experiments/model_1_dense\n",
            "36/36 [==============================] - 1s 23ms/step - loss: 269.8989 - mae: 269.8989 - mse: 317214.8750 - val_loss: 1119.8096 - val_mae: 1119.8096 - val_mse: 2177786.7500\n",
            "Epoch 15/100\n",
            "31/36 [========================>.....] - ETA: 0s - loss: 252.7426 - mae: 252.7426 - mse: 282553.3750\n",
            "Epoch 15: val_loss did not improve from 1119.80957\n",
            "36/36 [==============================] - 0s 5ms/step - loss: 251.9055 - mae: 251.9055 - mse: 277907.8125 - val_loss: 1316.4766 - val_mae: 1316.4766 - val_mse: 2746525.0000\n",
            "Epoch 16/100\n",
            "35/36 [============================>.] - ETA: 0s - loss: 242.4846 - mae: 242.4846 - mse: 263242.3125\n",
            "Epoch 16: val_loss improved from 1119.80957 to 1005.31476, saving model to model_experiments/model_1_dense\n",
            "36/36 [==============================] - 1s 20ms/step - loss: 242.1484 - mae: 242.1484 - mse: 262983.0625 - val_loss: 1005.3148 - val_mae: 1005.3148 - val_mse: 1881395.1250\n",
            "Epoch 17/100\n",
            "29/36 [=======================>......] - ETA: 0s - loss: 230.1745 - mae: 230.1745 - mse: 248193.5156\n",
            "Epoch 17: val_loss improved from 1005.31476 to 997.73981, saving model to model_experiments/model_1_dense\n",
            "36/36 [==============================] - 1s 24ms/step - loss: 228.6546 - mae: 228.6546 - mse: 240685.8438 - val_loss: 997.7398 - val_mae: 997.7398 - val_mse: 1847406.0000\n",
            "Epoch 18/100\n",
            "27/36 [=====================>........] - ETA: 0s - loss: 255.7649 - mae: 255.7649 - mse: 280143.5312\n",
            "Epoch 18: val_loss did not improve from 997.73981\n",
            "36/36 [==============================] - 0s 3ms/step - loss: 244.6734 - mae: 244.6734 - mse: 260837.6094 - val_loss: 1023.3245 - val_mae: 1023.3245 - val_mse: 1892025.8750\n",
            "Epoch 19/100\n",
            "29/36 [=======================>......] - ETA: 0s - loss: 221.0319 - mae: 221.0319 - mse: 225707.0312\n",
            "Epoch 19: val_loss did not improve from 997.73981\n",
            "36/36 [==============================] - 0s 3ms/step - loss: 219.9016 - mae: 219.9016 - mse: 223005.1719 - val_loss: 1002.4050 - val_mae: 1002.4050 - val_mse: 1950939.5000\n",
            "Epoch 20/100\n",
            "29/36 [=======================>......] - ETA: 0s - loss: 234.0623 - mae: 234.0623 - mse: 245654.6875\n",
            "Epoch 20: val_loss did not improve from 997.73981\n",
            "36/36 [==============================] - 0s 3ms/step - loss: 242.0168 - mae: 242.0168 - mse: 262643.0000 - val_loss: 1126.3798 - val_mae: 1126.3798 - val_mse: 2307658.7500\n",
            "Epoch 21/100\n",
            "28/36 [======================>.......] - ETA: 0s - loss: 235.5322 - mae: 235.5322 - mse: 245898.6562\n",
            "Epoch 21: val_loss improved from 997.73981 to 962.24658, saving model to model_experiments/model_1_dense\n",
            "36/36 [==============================] - 1s 15ms/step - loss: 231.6588 - mae: 231.6588 - mse: 240486.2500 - val_loss: 962.2466 - val_mae: 962.2466 - val_mse: 1744606.3750\n",
            "Epoch 22/100\n",
            "26/36 [====================>.........] - ETA: 0s - loss: 218.6515 - mae: 218.6515 - mse: 225578.8125\n",
            "Epoch 22: val_loss improved from 962.24658 to 927.65961, saving model to model_experiments/model_1_dense\n",
            "36/36 [==============================] - 1s 16ms/step - loss: 218.1775 - mae: 218.1775 - mse: 223558.3594 - val_loss: 927.6596 - val_mae: 927.6596 - val_mse: 1717337.8750\n",
            "Epoch 23/100\n",
            "29/36 [=======================>......] - ETA: 0s - loss: 285.7120 - mae: 285.7120 - mse: 345658.4688\n",
            "Epoch 23: val_loss did not improve from 927.65961\n",
            "36/36 [==============================] - 0s 3ms/step - loss: 278.4499 - mae: 278.4499 - mse: 326232.1250 - val_loss: 1134.9846 - val_mae: 1134.9846 - val_mse: 2162890.5000\n",
            "Epoch 24/100\n",
            "25/36 [===================>..........] - ETA: 0s - loss: 225.7944 - mae: 225.7944 - mse: 230502.9531\n",
            "Epoch 24: val_loss did not improve from 927.65961\n",
            "36/36 [==============================] - 0s 3ms/step - loss: 223.5080 - mae: 223.5080 - mse: 226821.6719 - val_loss: 1055.3544 - val_mae: 1055.3544 - val_mse: 2084236.7500\n",
            "Epoch 25/100\n",
            "30/36 [========================>.....] - ETA: 0s - loss: 229.6423 - mae: 229.6423 - mse: 237768.2969\n",
            "Epoch 25: val_loss did not improve from 927.65961\n",
            "36/36 [==============================] - 0s 3ms/step - loss: 237.4589 - mae: 237.4589 - mse: 259340.4375 - val_loss: 1160.3400 - val_mae: 1160.3400 - val_mse: 2227989.5000\n",
            "Epoch 26/100\n",
            "28/36 [======================>.......] - ETA: 0s - loss: 215.5857 - mae: 215.5857 - mse: 208996.6406\n",
            "Epoch 26: val_loss did not improve from 927.65961\n",
            "36/36 [==============================] - 0s 3ms/step - loss: 219.2901 - mae: 219.2901 - mse: 219132.3438 - val_loss: 935.1967 - val_mae: 935.1967 - val_mse: 1679132.5000\n",
            "Epoch 27/100\n",
            "29/36 [=======================>......] - ETA: 0s - loss: 212.2204 - mae: 212.2204 - mse: 200690.7031\n",
            "Epoch 27: val_loss did not improve from 927.65961\n",
            "36/36 [==============================] - 0s 3ms/step - loss: 213.4802 - mae: 213.4802 - mse: 206396.1875 - val_loss: 975.3506 - val_mae: 975.3506 - val_mse: 1855035.1250\n",
            "Epoch 28/100\n",
            "27/36 [=====================>........] - ETA: 0s - loss: 225.0394 - mae: 225.0394 - mse: 232969.1406\n",
            "Epoch 28: val_loss improved from 927.65961 to 906.59851, saving model to model_experiments/model_1_dense\n",
            "36/36 [==============================] - 1s 15ms/step - loss: 222.0378 - mae: 222.0378 - mse: 224806.5156 - val_loss: 906.5985 - val_mae: 906.5985 - val_mse: 1659003.3750\n",
            "Epoch 29/100\n",
            "29/36 [=======================>......] - ETA: 0s - loss: 217.3094 - mae: 217.3094 - mse: 221082.3438\n",
            "Epoch 29: val_loss did not improve from 906.59851\n",
            "36/36 [==============================] - 0s 3ms/step - loss: 211.0733 - mae: 211.0733 - mse: 205776.1406 - val_loss: 910.9346 - val_mae: 910.9346 - val_mse: 1674877.1250\n",
            "Epoch 30/100\n",
            "30/36 [========================>.....] - ETA: 0s - loss: 210.4954 - mae: 210.4954 - mse: 199146.9375\n",
            "Epoch 30: val_loss improved from 906.59851 to 904.89844, saving model to model_experiments/model_1_dense\n",
            "36/36 [==============================] - 1s 15ms/step - loss: 210.5092 - mae: 210.5092 - mse: 201823.6875 - val_loss: 904.8984 - val_mae: 904.8984 - val_mse: 1657418.7500\n",
            "Epoch 31/100\n",
            "28/36 [======================>.......] - ETA: 0s - loss: 219.5109 - mae: 219.5109 - mse: 215481.0469\n",
            "Epoch 31: val_loss did not improve from 904.89844\n",
            "36/36 [==============================] - 0s 3ms/step - loss: 217.9418 - mae: 217.9418 - mse: 218608.0312 - val_loss: 934.8075 - val_mae: 934.8075 - val_mse: 1673013.2500\n",
            "Epoch 32/100\n",
            "27/36 [=====================>........] - ETA: 0s - loss: 211.9826 - mae: 211.9826 - mse: 209712.9688\n",
            "Epoch 32: val_loss did not improve from 904.89844\n",
            "36/36 [==============================] - 0s 3ms/step - loss: 209.4065 - mae: 209.4065 - mse: 203545.9219 - val_loss: 1015.5838 - val_mae: 1015.5838 - val_mse: 1851085.5000\n",
            "Epoch 33/100\n",
            "28/36 [======================>.......] - ETA: 0s - loss: 220.7356 - mae: 220.7356 - mse: 216525.3438\n",
            "Epoch 33: val_loss did not improve from 904.89844\n",
            "36/36 [==============================] - 0s 3ms/step - loss: 222.9846 - mae: 222.9846 - mse: 225988.8750 - val_loss: 920.2479 - val_mae: 920.2479 - val_mse: 1700893.2500\n",
            "Epoch 34/100\n",
            "29/36 [=======================>......] - ETA: 0s - loss: 217.3924 - mae: 217.3924 - mse: 212860.5000\n",
            "Epoch 34: val_loss did not improve from 904.89844\n",
            "36/36 [==============================] - 0s 3ms/step - loss: 224.1567 - mae: 224.1567 - mse: 228748.7812 - val_loss: 1042.8685 - val_mae: 1042.8685 - val_mse: 1913438.6250\n",
            "Epoch 35/100\n",
            "30/36 [========================>.....] - ETA: 0s - loss: 231.8383 - mae: 231.8383 - mse: 245562.8281\n",
            "Epoch 35: val_loss did not improve from 904.89844\n",
            "36/36 [==============================] - 0s 3ms/step - loss: 229.7856 - mae: 229.7856 - mse: 238338.8750 - val_loss: 1315.3069 - val_mae: 1315.3069 - val_mse: 2640960.5000\n",
            "Epoch 36/100\n",
            "28/36 [======================>.......] - ETA: 0s - loss: 233.4802 - mae: 233.4802 - mse: 238361.0781\n",
            "Epoch 36: val_loss did not improve from 904.89844\n",
            "36/36 [==============================] - 0s 3ms/step - loss: 234.6778 - mae: 234.6778 - mse: 239790.7031 - val_loss: 1145.3802 - val_mae: 1145.3802 - val_mse: 2165940.7500\n",
            "Epoch 37/100\n",
            "29/36 [=======================>......] - ETA: 0s - loss: 237.1232 - mae: 237.1232 - mse: 240796.5000\n",
            "Epoch 37: val_loss did not improve from 904.89844\n",
            "36/36 [==============================] - 0s 3ms/step - loss: 235.3974 - mae: 235.3974 - mse: 238992.4062 - val_loss: 1203.9084 - val_mae: 1203.9084 - val_mse: 2318238.0000\n",
            "Epoch 38/100\n",
            "29/36 [=======================>......] - ETA: 0s - loss: 231.8672 - mae: 231.8672 - mse: 233350.0312\n",
            "Epoch 38: val_loss did not improve from 904.89844\n",
            "36/36 [==============================] - 0s 3ms/step - loss: 231.9477 - mae: 231.9477 - mse: 238709.4531 - val_loss: 989.7776 - val_mae: 989.7776 - val_mse: 1887654.1250\n",
            "Epoch 39/100\n",
            "28/36 [======================>.......] - ETA: 0s - loss: 234.7983 - mae: 234.7983 - mse: 255665.4219\n",
            "Epoch 39: val_loss did not improve from 904.89844\n",
            "36/36 [==============================] - 0s 3ms/step - loss: 229.1649 - mae: 229.1649 - mse: 240921.6562 - val_loss: 1070.0602 - val_mae: 1070.0602 - val_mse: 2106916.2500\n",
            "Epoch 40/100\n",
            "30/36 [========================>.....] - ETA: 0s - loss: 219.9468 - mae: 219.9468 - mse: 219712.0312\n",
            "Epoch 40: val_loss did not improve from 904.89844\n",
            "36/36 [==============================] - 0s 3ms/step - loss: 216.9862 - mae: 216.9862 - mse: 217213.9375 - val_loss: 980.5314 - val_mae: 980.5314 - val_mse: 1862274.5000\n",
            "Epoch 41/100\n",
            "28/36 [======================>.......] - ETA: 0s - loss: 223.0798 - mae: 223.0798 - mse: 223716.5000\n",
            "Epoch 41: val_loss did not improve from 904.89844\n",
            "36/36 [==============================] - 0s 3ms/step - loss: 228.0365 - mae: 228.0365 - mse: 228087.6250 - val_loss: 1187.7936 - val_mae: 1187.7936 - val_mse: 2269449.7500\n",
            "Epoch 42/100\n",
            "29/36 [=======================>......] - ETA: 0s - loss: 228.7766 - mae: 228.7766 - mse: 229324.4531\n",
            "Epoch 42: val_loss did not improve from 904.89844\n",
            "36/36 [==============================] - 0s 3ms/step - loss: 230.1365 - mae: 230.1365 - mse: 232766.9531 - val_loss: 928.7859 - val_mae: 928.7859 - val_mse: 1723300.3750\n",
            "Epoch 43/100\n",
            "25/36 [===================>..........] - ETA: 0s - loss: 215.9001 - mae: 215.9001 - mse: 212325.8594\n",
            "Epoch 43: val_loss improved from 904.89844 to 870.91510, saving model to model_experiments/model_1_dense\n",
            "36/36 [==============================] - 1s 16ms/step - loss: 212.8336 - mae: 212.8336 - mse: 209782.5312 - val_loss: 870.9151 - val_mae: 870.9151 - val_mse: 1554680.1250\n",
            "Epoch 44/100\n",
            "21/36 [================>.............] - ETA: 0s - loss: 202.7390 - mae: 202.7390 - mse: 188456.2656\n",
            "Epoch 44: val_loss did not improve from 870.91510\n",
            "36/36 [==============================] - 0s 4ms/step - loss: 201.6472 - mae: 201.6472 - mse: 191212.9219 - val_loss: 988.6997 - val_mae: 988.6997 - val_mse: 1778504.6250\n",
            "Epoch 45/100\n",
            "26/36 [====================>.........] - ETA: 0s - loss: 215.3028 - mae: 215.3028 - mse: 225813.2656\n",
            "Epoch 45: val_loss did not improve from 870.91510\n",
            "36/36 [==============================] - 0s 3ms/step - loss: 213.5746 - mae: 213.5746 - mse: 213486.5469 - val_loss: 1059.6727 - val_mae: 1059.6727 - val_mse: 2074471.2500\n",
            "Epoch 46/100\n",
            "29/36 [=======================>......] - ETA: 0s - loss: 217.3984 - mae: 217.3984 - mse: 209021.8906\n",
            "Epoch 46: val_loss did not improve from 870.91510\n",
            "36/36 [==============================] - 0s 3ms/step - loss: 213.1617 - mae: 213.1617 - mse: 204114.8594 - val_loss: 1054.5742 - val_mae: 1054.5742 - val_mse: 1927423.3750\n",
            "Epoch 47/100\n",
            "27/36 [=====================>........] - ETA: 0s - loss: 231.3029 - mae: 231.3029 - mse: 240248.1406\n",
            "Epoch 47: val_loss did not improve from 870.91510\n",
            "36/36 [==============================] - 0s 3ms/step - loss: 227.9272 - mae: 227.9272 - mse: 232433.4531 - val_loss: 1026.8199 - val_mae: 1026.8199 - val_mse: 1984983.5000\n",
            "Epoch 48/100\n",
            "28/36 [======================>.......] - ETA: 0s - loss: 208.9969 - mae: 208.9969 - mse: 197849.6406\n",
            "Epoch 48: val_loss did not improve from 870.91510\n",
            "36/36 [==============================] - 0s 3ms/step - loss: 211.3020 - mae: 211.3020 - mse: 202115.7031 - val_loss: 916.2924 - val_mae: 916.2924 - val_mse: 1689504.6250\n",
            "Epoch 49/100\n",
            "28/36 [======================>.......] - ETA: 0s - loss: 257.7174 - mae: 257.7174 - mse: 286770.8438\n",
            "Epoch 49: val_loss did not improve from 870.91510\n",
            "36/36 [==============================] - 0s 3ms/step - loss: 251.1332 - mae: 251.1332 - mse: 274266.1875 - val_loss: 1171.1990 - val_mae: 1171.1990 - val_mse: 2216063.0000\n",
            "Epoch 50/100\n",
            "23/36 [==================>...........] - ETA: 0s - loss: 196.9306 - mae: 196.9306 - mse: 181539.9375\n",
            "Epoch 50: val_loss did not improve from 870.91510\n",
            "36/36 [==============================] - 0s 3ms/step - loss: 205.8106 - mae: 205.8106 - mse: 195819.4531 - val_loss: 893.8600 - val_mae: 893.8600 - val_mse: 1576279.6250\n",
            "Epoch 51/100\n",
            "28/36 [======================>.......] - ETA: 0s - loss: 222.1352 - mae: 222.1352 - mse: 224200.4531\n",
            "Epoch 51: val_loss did not improve from 870.91510\n",
            "36/36 [==============================] - 0s 3ms/step - loss: 220.2376 - mae: 220.2376 - mse: 221088.5781 - val_loss: 1120.5842 - val_mae: 1120.5842 - val_mse: 2084392.7500\n",
            "Epoch 52/100\n",
            "23/36 [==================>...........] - ETA: 0s - loss: 226.1325 - mae: 226.1325 - mse: 229293.8438\n",
            "Epoch 52: val_loss did not improve from 870.91510\n",
            "36/36 [==============================] - 0s 4ms/step - loss: 213.6754 - mae: 213.6754 - mse: 213313.4531 - val_loss: 905.4477 - val_mae: 905.4477 - val_mse: 1596636.3750\n",
            "Epoch 53/100\n",
            "28/36 [======================>.......] - ETA: 0s - loss: 204.3629 - mae: 204.3629 - mse: 194074.7031\n",
            "Epoch 53: val_loss did not improve from 870.91510\n",
            "36/36 [==============================] - 0s 3ms/step - loss: 203.5400 - mae: 203.5400 - mse: 194131.1406 - val_loss: 932.4904 - val_mae: 932.4904 - val_mse: 1733771.2500\n",
            "Epoch 54/100\n",
            "28/36 [======================>.......] - ETA: 0s - loss: 211.8027 - mae: 211.8027 - mse: 212363.0000\n",
            "Epoch 54: val_loss did not improve from 870.91510\n",
            "36/36 [==============================] - 0s 3ms/step - loss: 211.7893 - mae: 211.7893 - mse: 210683.3750 - val_loss: 1409.7892 - val_mae: 1409.7892 - val_mse: 2909360.0000\n",
            "Epoch 55/100\n",
            "29/36 [=======================>......] - ETA: 0s - loss: 206.1120 - mae: 206.1120 - mse: 191026.7656\n",
            "Epoch 55: val_loss did not improve from 870.91510\n",
            "36/36 [==============================] - 0s 3ms/step - loss: 205.5902 - mae: 205.5902 - mse: 193323.3594 - val_loss: 1117.9589 - val_mae: 1117.9589 - val_mse: 2074489.3750\n",
            "Epoch 56/100\n",
            "26/36 [====================>.........] - ETA: 0s - loss: 221.7852 - mae: 221.7852 - mse: 214184.0625\n",
            "Epoch 56: val_loss did not improve from 870.91510\n",
            "36/36 [==============================] - 0s 3ms/step - loss: 218.0168 - mae: 218.0168 - mse: 210777.8906 - val_loss: 1085.3130 - val_mae: 1085.3130 - val_mse: 1992812.3750\n",
            "Epoch 57/100\n",
            "27/36 [=====================>........] - ETA: 0s - loss: 198.9834 - mae: 198.9834 - mse: 187318.6094\n",
            "Epoch 57: val_loss improved from 870.91510 to 866.24274, saving model to model_experiments/model_1_dense\n",
            "36/36 [==============================] - 1s 15ms/step - loss: 198.4616 - mae: 198.4616 - mse: 187067.8594 - val_loss: 866.2427 - val_mae: 866.2427 - val_mse: 1526074.0000\n",
            "Epoch 58/100\n",
            "28/36 [======================>.......] - ETA: 0s - loss: 212.4352 - mae: 212.4352 - mse: 211208.3750\n",
            "Epoch 58: val_loss did not improve from 866.24274\n",
            "36/36 [==============================] - 0s 3ms/step - loss: 207.1987 - mae: 207.1987 - mse: 198106.4844 - val_loss: 1094.3479 - val_mae: 1094.3479 - val_mse: 2013349.2500\n",
            "Epoch 59/100\n",
            "28/36 [======================>.......] - ETA: 0s - loss: 205.2224 - mae: 205.2224 - mse: 198643.2344\n",
            "Epoch 59: val_loss did not improve from 866.24274\n",
            "36/36 [==============================] - 0s 3ms/step - loss: 210.7056 - mae: 210.7056 - mse: 201151.7500 - val_loss: 1710.4143 - val_mae: 1710.4143 - val_mse: 3952153.0000\n",
            "Epoch 60/100\n",
            "26/36 [====================>.........] - ETA: 0s - loss: 237.2751 - mae: 237.2751 - mse: 244503.0781\n",
            "Epoch 60: val_loss did not improve from 866.24274\n",
            "36/36 [==============================] - 0s 3ms/step - loss: 240.3454 - mae: 240.3454 - mse: 252947.4688 - val_loss: 870.7990 - val_mae: 870.7990 - val_mse: 1570454.6250\n",
            "Epoch 61/100\n",
            "26/36 [====================>.........] - ETA: 0s - loss: 191.8464 - mae: 191.8464 - mse: 167732.0312\n",
            "Epoch 61: val_loss did not improve from 866.24274\n",
            "36/36 [==============================] - 0s 3ms/step - loss: 202.4066 - mae: 202.4066 - mse: 191093.2812 - val_loss: 1083.0521 - val_mae: 1083.0521 - val_mse: 1983702.6250\n",
            "Epoch 62/100\n",
            "29/36 [=======================>......] - ETA: 0s - loss: 214.7418 - mae: 214.7418 - mse: 208344.9375\n",
            "Epoch 62: val_loss did not improve from 866.24274\n",
            "36/36 [==============================] - 0s 3ms/step - loss: 209.4603 - mae: 209.4603 - mse: 202790.1562 - val_loss: 894.8535 - val_mae: 894.8535 - val_mse: 1570642.8750\n",
            "Epoch 63/100\n",
            "28/36 [======================>.......] - ETA: 0s - loss: 213.2798 - mae: 213.2798 - mse: 205526.4844\n",
            "Epoch 63: val_loss did not improve from 866.24274\n",
            "36/36 [==============================] - 0s 3ms/step - loss: 213.8030 - mae: 213.8030 - mse: 204986.7500 - val_loss: 1050.3562 - val_mae: 1050.3562 - val_mse: 2040189.8750\n",
            "Epoch 64/100\n",
            "29/36 [=======================>......] - ETA: 0s - loss: 228.1191 - mae: 228.1191 - mse: 237226.9844\n",
            "Epoch 64: val_loss improved from 866.24274 to 850.41638, saving model to model_experiments/model_1_dense\n",
            "36/36 [==============================] - 1s 18ms/step - loss: 220.9257 - mae: 220.9257 - mse: 227153.4062 - val_loss: 850.4164 - val_mae: 850.4164 - val_mse: 1507313.5000\n",
            "Epoch 65/100\n",
            "21/36 [================>.............] - ETA: 0s - loss: 191.9413 - mae: 191.9413 - mse: 183078.1875\n",
            "Epoch 65: val_loss did not improve from 850.41638\n",
            "36/36 [==============================] - 0s 6ms/step - loss: 201.6403 - mae: 201.6403 - mse: 189169.5938 - val_loss: 1023.3100 - val_mae: 1023.3100 - val_mse: 1838180.5000\n",
            "Epoch 66/100\n",
            "32/36 [=========================>....] - ETA: 0s - loss: 206.4292 - mae: 206.4292 - mse: 203812.8125\n",
            "Epoch 66: val_loss did not improve from 850.41638\n",
            "36/36 [==============================] - 0s 5ms/step - loss: 206.5885 - mae: 206.5885 - mse: 201151.2188 - val_loss: 860.4827 - val_mae: 860.4827 - val_mse: 1511688.8750\n",
            "Epoch 67/100\n",
            "20/36 [===============>..............] - ETA: 0s - loss: 208.1352 - mae: 208.1352 - mse: 200972.8906\n",
            "Epoch 67: val_loss did not improve from 850.41638\n",
            "36/36 [==============================] - 0s 4ms/step - loss: 203.0650 - mae: 203.0650 - mse: 193309.0938 - val_loss: 1143.3744 - val_mae: 1143.3744 - val_mse: 2131191.0000\n",
            "Epoch 68/100\n",
            "18/36 [==============>...............] - ETA: 0s - loss: 193.7396 - mae: 193.7396 - mse: 180164.6094\n",
            "Epoch 68: val_loss did not improve from 850.41638\n",
            "36/36 [==============================] - 0s 4ms/step - loss: 200.1691 - mae: 200.1691 - mse: 187985.9219 - val_loss: 913.6092 - val_mae: 913.6092 - val_mse: 1683783.8750\n",
            "Epoch 69/100\n",
            "18/36 [==============>...............] - ETA: 0s - loss: 203.5899 - mae: 203.5899 - mse: 207359.4844\n",
            "Epoch 69: val_loss did not improve from 850.41638\n",
            "36/36 [==============================] - 0s 4ms/step - loss: 206.8306 - mae: 206.8306 - mse: 198322.1719 - val_loss: 900.5168 - val_mae: 900.5168 - val_mse: 1650314.1250\n",
            "Epoch 70/100\n",
            "35/36 [============================>.] - ETA: 0s - loss: 209.9183 - mae: 209.9183 - mse: 201228.7812\n",
            "Epoch 70: val_loss did not improve from 850.41638\n",
            "36/36 [==============================] - 0s 5ms/step - loss: 210.3249 - mae: 210.3249 - mse: 201479.4219 - val_loss: 1098.0077 - val_mae: 1098.0077 - val_mse: 2016510.3750\n",
            "Epoch 71/100\n",
            "36/36 [==============================] - ETA: 0s - loss: 201.5367 - mae: 201.5367 - mse: 190931.3438\n",
            "Epoch 71: val_loss did not improve from 850.41638\n",
            "36/36 [==============================] - 0s 6ms/step - loss: 201.5367 - mae: 201.5367 - mse: 190931.3438 - val_loss: 852.1443 - val_mae: 852.1443 - val_mse: 1523861.5000\n",
            "Epoch 72/100\n",
            "20/36 [===============>..............] - ETA: 0s - loss: 217.3994 - mae: 217.3994 - mse: 213995.9219\n",
            "Epoch 72: val_loss did not improve from 850.41638\n",
            "36/36 [==============================] - 0s 5ms/step - loss: 221.5348 - mae: 221.5348 - mse: 220959.5312 - val_loss: 918.9965 - val_mae: 918.9965 - val_mse: 1699048.2500\n",
            "Epoch 73/100\n",
            "34/36 [===========================>..] - ETA: 0s - loss: 200.9530 - mae: 200.9530 - mse: 186333.7500\n",
            "Epoch 73: val_loss did not improve from 850.41638\n",
            "36/36 [==============================] - 0s 5ms/step - loss: 202.2904 - mae: 202.2904 - mse: 188726.3125 - val_loss: 1212.2179 - val_mae: 1212.2179 - val_mse: 2302944.7500\n",
            "Epoch 74/100\n",
            "35/36 [============================>.] - ETA: 0s - loss: 211.7209 - mae: 211.7209 - mse: 203507.3438\n",
            "Epoch 74: val_loss did not improve from 850.41638\n",
            "36/36 [==============================] - 0s 5ms/step - loss: 210.9186 - mae: 210.9186 - mse: 201614.1250 - val_loss: 875.0551 - val_mae: 875.0551 - val_mse: 1585826.2500\n",
            "Epoch 75/100\n",
            "20/36 [===============>..............] - ETA: 0s - loss: 189.9902 - mae: 189.9902 - mse: 169308.9688\n",
            "Epoch 75: val_loss did not improve from 850.41638\n",
            "36/36 [==============================] - 0s 4ms/step - loss: 212.6157 - mae: 212.6157 - mse: 205307.1094 - val_loss: 1380.0662 - val_mae: 1380.0662 - val_mse: 2796083.7500\n",
            "Epoch 76/100\n",
            "19/36 [==============>...............] - ETA: 0s - loss: 247.0792 - mae: 247.0792 - mse: 261563.0781\n",
            "Epoch 76: val_loss did not improve from 850.41638\n",
            "36/36 [==============================] - 0s 5ms/step - loss: 224.4517 - mae: 224.4517 - mse: 222493.5312 - val_loss: 920.8177 - val_mae: 920.8177 - val_mse: 1705330.5000\n",
            "Epoch 77/100\n",
            "18/36 [==============>...............] - ETA: 0s - loss: 210.8637 - mae: 210.8637 - mse: 208537.7656\n",
            "Epoch 77: val_loss did not improve from 850.41638\n",
            "36/36 [==============================] - 0s 5ms/step - loss: 212.2848 - mae: 212.2848 - mse: 206311.5312 - val_loss: 1132.4381 - val_mae: 1132.4381 - val_mse: 2258502.5000\n",
            "Epoch 78/100\n",
            "36/36 [==============================] - ETA: 0s - loss: 211.8442 - mae: 211.8442 - mse: 203421.5625\n",
            "Epoch 78: val_loss did not improve from 850.41638\n",
            "36/36 [==============================] - 0s 5ms/step - loss: 211.8442 - mae: 211.8442 - mse: 203421.5625 - val_loss: 1233.2704 - val_mae: 1233.2704 - val_mse: 2359201.0000\n",
            "Epoch 79/100\n",
            "19/36 [==============>...............] - ETA: 0s - loss: 199.1705 - mae: 199.1705 - mse: 177218.8594\n",
            "Epoch 79: val_loss did not improve from 850.41638\n",
            "36/36 [==============================] - 0s 6ms/step - loss: 221.6344 - mae: 221.6344 - mse: 220330.2656 - val_loss: 1257.6581 - val_mae: 1257.6581 - val_mse: 2612572.7500\n",
            "Epoch 80/100\n",
            "17/36 [=============>................] - ETA: 0s - loss: 213.2818 - mae: 213.2818 - mse: 219328.9062\n",
            "Epoch 80: val_loss improved from 850.41638 to 841.61981, saving model to model_experiments/model_1_dense\n",
            "36/36 [==============================] - 1s 16ms/step - loss: 205.6251 - mae: 205.6251 - mse: 198847.8438 - val_loss: 841.6198 - val_mae: 841.6198 - val_mse: 1490268.7500\n",
            "Epoch 81/100\n",
            "28/36 [======================>.......] - ETA: 0s - loss: 198.1737 - mae: 198.1737 - mse: 188668.3281\n",
            "Epoch 81: val_loss did not improve from 841.61981\n",
            "36/36 [==============================] - 0s 3ms/step - loss: 199.1460 - mae: 199.1460 - mse: 191516.1094 - val_loss: 842.0437 - val_mae: 842.0437 - val_mse: 1493769.0000\n",
            "Epoch 82/100\n",
            "28/36 [======================>.......] - ETA: 0s - loss: 208.1403 - mae: 208.1403 - mse: 204274.5312\n",
            "Epoch 82: val_loss did not improve from 841.61981\n",
            "36/36 [==============================] - 0s 3ms/step - loss: 214.0914 - mae: 214.0914 - mse: 210648.3750 - val_loss: 1211.5824 - val_mae: 1211.5824 - val_mse: 2298519.2500\n",
            "Epoch 83/100\n",
            "30/36 [========================>.....] - ETA: 0s - loss: 233.1832 - mae: 233.1832 - mse: 243123.1562\n",
            "Epoch 83: val_loss improved from 841.61981 to 840.28735, saving model to model_experiments/model_1_dense\n",
            "36/36 [==============================] - 1s 15ms/step - loss: 228.9433 - mae: 228.9433 - mse: 236694.1094 - val_loss: 840.2874 - val_mae: 840.2874 - val_mse: 1479483.5000\n",
            "Epoch 84/100\n",
            "24/36 [===================>..........] - ETA: 0s - loss: 186.7318 - mae: 186.7318 - mse: 163574.6719\n",
            "Epoch 84: val_loss did not improve from 840.28735\n",
            "36/36 [==============================] - 0s 3ms/step - loss: 193.4744 - mae: 193.4744 - mse: 176272.6406 - val_loss: 841.0784 - val_mae: 841.0784 - val_mse: 1478304.3750\n",
            "Epoch 85/100\n",
            "29/36 [=======================>......] - ETA: 0s - loss: 192.0917 - mae: 192.0917 - mse: 176080.3125\n",
            "Epoch 85: val_loss did not improve from 840.28735\n",
            "36/36 [==============================] - 0s 3ms/step - loss: 195.5313 - mae: 195.5313 - mse: 182675.1562 - val_loss: 843.8962 - val_mae: 843.8962 - val_mse: 1502689.2500\n",
            "Epoch 86/100\n",
            "24/36 [===================>..........] - ETA: 0s - loss: 198.6084 - mae: 198.6084 - mse: 185653.0156\n",
            "Epoch 86: val_loss did not improve from 840.28735\n",
            "36/36 [==============================] - 0s 4ms/step - loss: 203.8627 - mae: 203.8627 - mse: 198387.9531 - val_loss: 848.2067 - val_mae: 848.2067 - val_mse: 1515323.8750\n",
            "Epoch 87/100\n",
            "26/36 [====================>.........] - ETA: 0s - loss: 191.4251 - mae: 191.4251 - mse: 174844.3281\n",
            "Epoch 87: val_loss improved from 840.28735 to 839.46155, saving model to model_experiments/model_1_dense\n",
            "36/36 [==============================] - 1s 15ms/step - loss: 197.5942 - mae: 197.5942 - mse: 184670.4688 - val_loss: 839.4615 - val_mae: 839.4615 - val_mse: 1487304.7500\n",
            "Epoch 88/100\n",
            "27/36 [=====================>........] - ETA: 0s - loss: 198.3612 - mae: 198.3612 - mse: 186177.1094\n",
            "Epoch 88: val_loss did not improve from 839.46155\n",
            "36/36 [==============================] - 0s 3ms/step - loss: 197.7686 - mae: 197.7686 - mse: 185988.1094 - val_loss: 1019.6820 - val_mae: 1019.6820 - val_mse: 1820392.1250\n",
            "Epoch 89/100\n",
            "28/36 [======================>.......] - ETA: 0s - loss: 206.7845 - mae: 206.7845 - mse: 193683.2031\n",
            "Epoch 89: val_loss did not improve from 839.46155\n",
            "36/36 [==============================] - 0s 3ms/step - loss: 204.8292 - mae: 204.8292 - mse: 195760.8125 - val_loss: 962.8254 - val_mae: 962.8254 - val_mse: 1697036.2500\n",
            "Epoch 90/100\n",
            "26/36 [====================>.........] - ETA: 0s - loss: 214.8845 - mae: 214.8845 - mse: 207057.1875\n",
            "Epoch 90: val_loss did not improve from 839.46155\n",
            "36/36 [==============================] - 0s 3ms/step - loss: 208.0198 - mae: 208.0198 - mse: 199647.5781 - val_loss: 839.5250 - val_mae: 839.5250 - val_mse: 1472294.0000\n",
            "Epoch 91/100\n",
            "28/36 [======================>.......] - ETA: 0s - loss: 196.7550 - mae: 196.7550 - mse: 184599.1562\n",
            "Epoch 91: val_loss did not improve from 839.46155\n",
            "36/36 [==============================] - 0s 3ms/step - loss: 193.2307 - mae: 193.2307 - mse: 176380.0625 - val_loss: 876.9268 - val_mae: 876.9268 - val_mse: 1526696.2500\n",
            "Epoch 92/100\n",
            "27/36 [=====================>........] - ETA: 0s - loss: 214.9639 - mae: 214.9639 - mse: 219035.7812\n",
            "Epoch 92: val_loss did not improve from 839.46155\n",
            "36/36 [==============================] - 0s 3ms/step - loss: 212.8390 - mae: 212.8390 - mse: 208592.6094 - val_loss: 881.9528 - val_mae: 881.9528 - val_mse: 1535953.5000\n",
            "Epoch 93/100\n",
            "26/36 [====================>.........] - ETA: 0s - loss: 199.3734 - mae: 199.3734 - mse: 191016.6406\n",
            "Epoch 93: val_loss did not improve from 839.46155\n",
            "36/36 [==============================] - 0s 4ms/step - loss: 197.3125 - mae: 197.3125 - mse: 184672.7031 - val_loss: 842.6819 - val_mae: 842.6819 - val_mse: 1474930.6250\n",
            "Epoch 94/100\n",
            "27/36 [=====================>........] - ETA: 0s - loss: 199.7620 - mae: 199.7620 - mse: 194839.5156\n",
            "Epoch 94: val_loss did not improve from 839.46155\n",
            "36/36 [==============================] - 0s 3ms/step - loss: 196.2347 - mae: 196.2347 - mse: 183511.5312 - val_loss: 895.7056 - val_mae: 895.7056 - val_mse: 1638904.7500\n",
            "Epoch 95/100\n",
            "28/36 [======================>.......] - ETA: 0s - loss: 210.9288 - mae: 210.9288 - mse: 203003.0781\n",
            "Epoch 95: val_loss did not improve from 839.46155\n",
            "36/36 [==============================] - 0s 3ms/step - loss: 209.7013 - mae: 209.7013 - mse: 199064.6875 - val_loss: 863.0773 - val_mae: 863.0773 - val_mse: 1503069.8750\n",
            "Epoch 96/100\n",
            "26/36 [====================>.........] - ETA: 0s - loss: 205.9154 - mae: 205.9154 - mse: 197258.7656\n",
            "Epoch 96: val_loss did not improve from 839.46155\n",
            "36/36 [==============================] - 0s 3ms/step - loss: 208.9628 - mae: 208.9628 - mse: 202351.8594 - val_loss: 1635.4176 - val_mae: 1635.4176 - val_mse: 3648876.0000\n",
            "Epoch 97/100\n",
            "25/36 [===================>..........] - ETA: 0s - loss: 208.1572 - mae: 208.1572 - mse: 205559.8594\n",
            "Epoch 97: val_loss improved from 839.46155 to 837.94885, saving model to model_experiments/model_1_dense\n",
            "36/36 [==============================] - 1s 16ms/step - loss: 206.9922 - mae: 206.9922 - mse: 201284.8438 - val_loss: 837.9489 - val_mae: 837.9489 - val_mse: 1484776.0000\n",
            "Epoch 98/100\n",
            "29/36 [=======================>......] - ETA: 0s - loss: 212.8391 - mae: 212.8391 - mse: 203005.8281\n",
            "Epoch 98: val_loss did not improve from 837.94885\n",
            "36/36 [==============================] - 0s 3ms/step - loss: 211.0110 - mae: 211.0110 - mse: 201256.6094 - val_loss: 920.2794 - val_mae: 920.2794 - val_mse: 1701966.3750\n",
            "Epoch 99/100\n",
            "25/36 [===================>..........] - ETA: 0s - loss: 199.5229 - mae: 199.5229 - mse: 182251.9531\n",
            "Epoch 99: val_loss did not improve from 837.94885\n",
            "36/36 [==============================] - 0s 4ms/step - loss: 193.6184 - mae: 193.6184 - mse: 180811.0156 - val_loss: 863.5885 - val_mae: 863.5885 - val_mse: 1504780.8750\n",
            "Epoch 100/100\n",
            "24/36 [===================>..........] - ETA: 0s - loss: 213.6581 - mae: 213.6581 - mse: 207438.1094\n",
            "Epoch 100: val_loss did not improve from 837.94885\n",
            "36/36 [==============================] - 0s 3ms/step - loss: 205.3387 - mae: 205.3387 - mse: 197527.1875 - val_loss: 884.6344 - val_mae: 884.6344 - val_mse: 1541730.6250\n"
          ]
        },
        {
          "output_type": "execute_result",
          "data": {
            "text/plain": [
              "<keras.src.callbacks.History at 0x7951e9ac0c40>"
            ]
          },
          "metadata": {},
          "execution_count": 51
        }
      ]
    },
    {
      "cell_type": "code",
      "source": [],
      "metadata": {
        "id": "5qFOshKpTfuU"
      },
      "execution_count": null,
      "outputs": []
    }
  ]
}